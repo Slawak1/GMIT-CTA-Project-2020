{
 "cells": [
  {
   "cell_type": "markdown",
   "metadata": {},
   "source": [
    "## Benchmarking Sorting Algorithms - Project 2020\n",
    "### GMIT Galway - Computational Thinking with Algorithms\n",
    "### Slawomir Sowa\n"
   ]
  },
  {
   "cell_type": "markdown",
   "metadata": {},
   "source": [
    "## 1. Introduction:\n",
    "\n",
    "\n",
    "Sorting is any process of ordering (arranging items in a sequence) or categorizing (grouping items) items. Sorting is one of the most important algorithms in computer science.  We can use sorting to solve a wide range of problems:\n",
    "\n",
    "* **Searching:** Searching for an item on a list works much faster if the list is sorted.\n",
    "* **Selection:** Selecting items from a list based on their relationship to the rest of the items is easier with sorted data.\n",
    "* **Duplicates:** Finding duplicate values on a list can be done very quickly when the list is sorted.\n",
    "* **Distribution:** Analyzing the frequency distribution of items on a list is very fast if the list is sorted. <i>[[3]](https://realpython.com/sorting-algorithms-python/)</i>\n",
    "\n",
    "Sorting is often an important step as part of othercomputer algorithms e.g. in computer graphic (CG) objects.\n",
    "Few real world examples  Transactions in a bank account statement, results from a web search. <i>[6]</i>    \n",
    "\n",
    "We can define algorithm as a finite sequence of well-defined, computer-implementable instructions, to solve a problem or perform a computation. <i>[[1]](https://en.wikipedia.org/wiki/Algorithm)</i> \n",
    "\n",
    "In computer science sorting algorithms are a set of instructions that take na array or list as an input and arrange the items into a particular order. Most commonly in numerical or a form of alphabetical order. Sorting algorithms can reduce the complexity of a problem. <i>[[2]](https://guide.freecodecamp.org/algorithms/sorting-algorithms/)</i> \n",
    "\n",
    "\n",
    "\n",
    "\n",
    "#### Comparison Sort\n",
    "Comparison sort is a type of sorting algorithm which uses comparision operators to determine whch of two elements should appear first in sorted list. This type of algorithms are most widely applicable to diverse types of input data. The performance of comparison based algorithms in average or worst cases cannot be better than $O(n\\log{}n)$. <i>[6]</i>\n",
    "\n",
    "\n",
    "#### In Place sorting\n",
    "An in-place algorithm is an algorithm that does not need an extra space and produces an output in the same memory that contains the data by transforming the input ‘in-place’. However, a small constant extra space used for variables is allowed.[[10]](https://www.geeksforgeeks.org/in-place-algorithm/)\n",
    "\n",
    "#### Time and Space Complexity\n",
    "Time complexity of an algorithm signifies the total time required by the program to run till its completion and is most commonly expressed using the big O notation. It's an asymptotic notation to represent the time complexity.[[11]](https://www.studytonight.com/data-structures/time-complexity-of-algorithms)\n",
    "\n",
    "The space complexity of an algorithm is the amount of memory space required to solve a computational problem as a function of the size of the input. It is the memory required by an algorithm to execute a program and produce output.\n",
    "\n",
    "Similar to time complexity, Space complexity is often expressed asymptotically in big O notation, such as $O(n)$, $O(n^2)$, $O(n\\log{}n)$ etc., where n is the input size in units of bits needed to represent the input.[[12]](https://en.wikipedia.org/wiki/Space_complexity)\n",
    "\n",
    "\n",
    "|Algorithm|Best Time Complexity|Average Time Complexity|Worst Time COmplexity|Worst Space Complexity|\n",
    "|---|---|---|---|---|\n",
    "|Bubble Sort|$O(n)$|$O(n^2)$|$O(n^2)$|O(1)|\n",
    "|Selection Sort|$O(n^2)$|$O(n^2)$|$O(n^2)$|O(1)|\n",
    "|Merge Sort|$O(n\\log{}n)$|$O(n\\log{}n)$|$O(n\\log{}n)$|O(n)|\n",
    "|Heap Sort|$O(n\\log{}n)$|$O(n\\log{}n)$|$O(n\\log{}n)$|O(n)|\n",
    "|Counting Sort|$O(n)$|$O(n)$|$O(n)$|O(n)|\n",
    "\n",
    "\n",
    "![title](img/complexity.png)\n",
    "\n",
    "#### Stability\n",
    "A sorting algorithm is stable if two objects with equal keys appear in the same order in sorted output as they appear in the input array to be sorted.[[13]](https://www.geeksforgeeks.org/stability-in-sorting-algorithms/)\n",
    "\n",
    "Unstable, meaning that it does not maintain the relative order of elements with equal values. This isn't an issue with primitive types (like integers and characters...) but it can be a problem when we sort complex types, like objects.\n"
   ]
  },
  {
   "cell_type": "markdown",
   "metadata": {},
   "source": [
    "## 2. Sorting Algorithms\n",
    "\n",
    "I selected five sorting algorithms for testing. \n",
    "\n",
    "1. A simple comparision-based sort: **Bubble Sort** and **Selection Sort**\n",
    "2. As efficient comparision-based sort: **Merge Sort** and **Heap Sort**\n",
    "3. A non-comparision sort: **Counting Sort**\n",
    "\n",
    "Now I will present the algorithms in turn to explain how each algorithm works. \n",
    "\n",
    "### 2.1 Bubble Sort\n",
    "\n",
    "Bubble sort is a simple sorting algorithm that repeatedly steps through the list, compares adjacent elements and swaps them if they are in the wrong order.  The pass through the list is repeated until the list is sorted. <br>First analysed as early as 1956. [[4]](https://en.wikipedia.org/wiki/Bubble_sort), [[5]](https://www.geeksforgeeks.org/bubble-sort/) <br>\n",
    "Bubble sort algorithm is called comparision-based and the only way to gain information about the total order is by comparing a pair of elements. No algorithms that sorts by comparing alements can do better than $O(n\\log{}n)$ performance in the average or worst cases. <i>[6]</i>\n",
    "\n",
    "![title](img/bubble-short.PNG)\n",
    "<p  style=\"text-align:right\"><a href=\"https://www.w3resource.com/javascript-exercises/javascript-function-exercise-24.php\">https://www.w3resource.com/javascript-exercises/javascript-function-exercise-24.php</a></p>\n",
    "\n",
    "Bubble sort is in-place sorting algorithm. In general is simple to implement but it is slow and impractical for most problems.\n",
    "\n"
   ]
  },
  {
   "cell_type": "code",
   "execution_count": 4,
   "metadata": {},
   "outputs": [
    {
     "name": "stdout",
     "output_type": "stream",
     "text": [
      "[1, 2, 5, 48, 65, 125, 333, 469, 645, 2547]\n"
     ]
    }
   ],
   "source": [
    "# Code taken from https://www.geeksforgeeks.org/bubble-sort/\n",
    "\n",
    "# An example of Bubble sort algorithm\n",
    "\n",
    "def bubbleSort(arr):\n",
    "    # length of the array assigned to variable \n",
    "    n = len(arr) \n",
    "\n",
    "    # Loop over all array elements \n",
    "    for i in range(n): \n",
    "\n",
    "    # After each iteration the largest element is placed at the end\n",
    "        for j in range(0, n-i-1): \n",
    "\n",
    "            # Swap if the element arr[j] is greater than arr[j+1]\n",
    "            if arr[j] > arr[j+1] : \n",
    "                arr[j], arr[j+1] = arr[j+1], arr[j] \n",
    "    \n",
    "    # return sorted array\n",
    "    return arr\n",
    "\n",
    "alist = [65,125,48,469,5,333,2547,645,2,1,]\n",
    "bubbleSort(alist)\n",
    "print(alist)"
   ]
  },
  {
   "cell_type": "markdown",
   "metadata": {},
   "source": [
    "#### Performance\n",
    "\n",
    "* Best Case: $O(n)$<br>\n",
    "* Worst Case: $O(n^2)$<br>\n",
    "* Average Case: $O(n^2)$<br>\n",
    "* Space Complexity: $1$<br>\n",
    "* Stable: Yes"
   ]
  },
  {
   "cell_type": "markdown",
   "metadata": {},
   "source": [
    "### 2.2 Selection Sort\n",
    "\n",
    "Simmilar to Bubble sort, Selection sort is comparision based sorting algorithm, gives better performance than bubble sort, but still impractical for real world tasks with a significant input size.  <i>[6]</i>\n",
    "\n",
    "The selection sort algorithm sorts an array by repeatedly finding the minimum element (considering ascending order) from unsorted part and putting it at the beginning. The algorithm maintains two subarrays in a given array.\n",
    "\n",
    "1) The subarray which is already sorted. <br>\n",
    "2) Remaining subarray which is unsorted.\n",
    "\n",
    "In every iteration of selection sort, the minimum element (considering ascending order) from the unsorted subarray is picked and moved to the sorted subarray. [[7]](https://www.geeksforgeeks.org/selection-sort/)\n",
    "\n",
    "![title](img/selection-sort.PNG)\n",
    "\n",
    "\n",
    "<p  style=\"text-align:right\"><a href=\"https://www.w3resource.com/c-programming-exercises/searching-and-sorting/c-search-and-sorting-exercise-2.php\">https://www.w3resource.com/c-programming-exercises/searching-and-sorting/c-search-and-sorting-exercise-2.php</a></p>"
   ]
  },
  {
   "cell_type": "code",
   "execution_count": 8,
   "metadata": {},
   "outputs": [
    {
     "name": "stdout",
     "output_type": "stream",
     "text": [
      "[17, 20, 26, 31, 44, 54, 55, 77, 93]\n"
     ]
    }
   ],
   "source": [
    "# Code taken from https://stackabuse.com/sorting-algorithms-in-python/\n",
    "\n",
    "# An example of Selection sort algorithm\n",
    "\n",
    "def selectionSort(arr):\n",
    "    for i in range(len(arr)):\n",
    "        # We assume that the first item of the unsorted segment is the smallest\n",
    "        lowest_value_index = i\n",
    "        # This loop iterates over the unsorted items\n",
    "        for j in range(i + 1, len(arr)):\n",
    "            if arr[j] < arr[lowest_value_index]:\n",
    "                lowest_value_index = j\n",
    "        # Swap values of the lowest unsorted element with the first unsorted\n",
    "        # element\n",
    "        arr[i], arr[lowest_value_index] = arr[lowest_value_index], arr[i]\n",
    "\n",
    "    return arr\n",
    "\n",
    "alist = [54,26,93,17,77,31,44,55,20]\n",
    "selectionSort(alist)\n",
    "print(alist)"
   ]
  },
  {
   "cell_type": "markdown",
   "metadata": {},
   "source": [
    "Algorithm has an $O(n^2)$ time complexity, which makes it inefficient on large lists,"
   ]
  },
  {
   "cell_type": "markdown",
   "metadata": {},
   "source": [
    "#### Performance\n",
    "\n",
    "* Best Case: $O(n^2)$<br>\n",
    "* Worst Case: $O(n^2)$<br>\n",
    "* Average Case: $O(n^2)$<br>\n",
    "* Space Complexity: $1$<br>\n",
    "* Stable: No"
   ]
  },
  {
   "cell_type": "markdown",
   "metadata": {},
   "source": [
    "### 2.3 Merge Sort\n",
    "\n",
    "Merge Sort was proposed by John von Neumann in 1945. This algorithm exploits a recursive divide-and-conquer approach, resulting in a worst-case running time of $O(n\\log{}n)$. Merge sort gives good all-around performance. <i>[6]</i><br>\n",
    "\n",
    "Conceptually, a merge sort works as follows:\n",
    "\n",
    "* Divide the unsorted list into n sublists, each containing one element (a list of one element is considered sorted).\n",
    "* Repeatedly merge sublists to produce new sorted sublists until there is only one sublist remaining. This will be the sorted list. <i>[[8]](https://en.wikipedia.org/wiki/Merge_sort)</i>\n",
    "\n",
    "\n",
    "![title](img/merge_sort.PNG)\n",
    "<p  style=\"text-align:right\"><a href=\"https://www.w3resource.com/javascript-exercises/searching-and-sorting-algorithm/searching-and-sorting-algorithm-exercise-2.php\">https://www.w3resource.com/javascript-exercises/searching-and-sorting-algorithm/searching-and-sorting-algorithm-exercise-2.php</a></p>\n"
   ]
  },
  {
   "cell_type": "code",
   "execution_count": 1,
   "metadata": {},
   "outputs": [
    {
     "name": "stdout",
     "output_type": "stream",
     "text": [
      "[1, 1, 2, 3, 4, 4, 5, 5, 6, 9]\n"
     ]
    }
   ],
   "source": [
    "# Source: https://stackabuse.com/sorting-algorithms-in-python/\n",
    "\n",
    "def merge(left_list, right_list):\n",
    "    sorted_list = []\n",
    "    left_list_index = right_list_index = 0\n",
    "\n",
    "    # We use the list lengths often, so its handy to make variables\n",
    "    left_list_length, right_list_length = len(left_list), len(right_list)\n",
    "\n",
    "    for _ in range(left_list_length + right_list_length):\n",
    "        if left_list_index < left_list_length and right_list_index < right_list_length:\n",
    "            # We check which value from the start of each list is smaller\n",
    "            # If the item at the beginning of the left list is smaller, add it\n",
    "            # to the sorted list\n",
    "            if left_list[left_list_index] <= right_list[right_list_index]:\n",
    "                sorted_list.append(left_list[left_list_index])\n",
    "                left_list_index += 1\n",
    "            # If the item at the beginning of the right list is smaller, add it\n",
    "            # to the sorted list\n",
    "            else:\n",
    "                sorted_list.append(right_list[right_list_index])\n",
    "                right_list_index += 1\n",
    "\n",
    "        # If we've reached the end of the of the left list, add the elements\n",
    "        # from the right list\n",
    "        elif left_list_index == left_list_length:\n",
    "            sorted_list.append(right_list[right_list_index])\n",
    "            right_list_index += 1\n",
    "        # If we've reached the end of the of the right list, add the elements\n",
    "        # from the left list\n",
    "        elif right_list_index == right_list_length:\n",
    "            sorted_list.append(left_list[left_list_index])\n",
    "            left_list_index += 1\n",
    "\n",
    "    # final result of the sorting\n",
    "    return sorted_list\n",
    "\n",
    "\n",
    "##### Function definition #####\n",
    "# Function performing the merge sort; it takes an array to be sorted as an argument\n",
    "def merge_sort(array):\n",
    "    # If the list is a single element, return it\n",
    "    if len(array) <= 1:\n",
    "        return array\n",
    "\n",
    "    # Use floor division to get midpoint, indices must be integers\n",
    "    mid = len(array) // 2\n",
    "\n",
    "    # Sort and merge each half\n",
    "    left_list = merge_sort(array[:mid])\n",
    "    right_list = merge_sort(array[mid:])\n",
    "\n",
    "    # Merge the sorted lists into a new one\n",
    "    return merge(left_list, right_list)\n",
    "\n",
    "alist = [3,1,4,1,5,9,2,6,5,4]\n",
    "\n",
    "print(merge_sort(alist))"
   ]
  },
  {
   "cell_type": "markdown",
   "metadata": {},
   "source": [
    "#### Performance\n",
    "\n",
    "* Best Case: $O(n\\log{}n)$<br>\n",
    "* Worst Case: $O(n\\log{}n)$<br>\n",
    "* Average Case: $O(n\\log{}n)$<br>\n",
    "* Space Complexity: $O(n)$<br>\n",
    "* Stable: Yes\n"
   ]
  },
  {
   "cell_type": "markdown",
   "metadata": {},
   "source": [
    "### 2.4 Heap Sort\n",
    "Heapsort is a comparison-based sorting algorithm that uses a binary heap data structure. \n",
    "\n",
    "The heapsort algorithm can be divided into two parts.\n",
    "\n",
    "In the first step, a heap is built out of the data. The heap is often placed in an array with the layout of a complete binary tree. The complete binary tree maps the binary tree structure into the array indices, each array index represents a node, the index of the node's parent, left child branch, or right child branch are simple expressions. \n",
    "\n",
    "\n",
    "In the second step, a sorted array is created by repeatedly removing the largest element from the heap (the root of the heap), and inserting it into the array. The heap is updated after each removal to maintain the heap property. Once all objects have been removed from the heap, the result is a sorted array. [[14]](https://en.wikipedia.org/wiki/Heapsort)\n",
    "\n",
    "Heap is a binary tree:\n",
    "* it must always have a heap structure, where all the levels of the binary tree are filled up, from left to right\n",
    "* it must be ordered as a max heap where every parent node (including the root) is greater than or equal to the value of its children nodes.\n",
    "\n",
    "Heapsort can be performed in place.\n"
   ]
  },
  {
   "cell_type": "code",
   "execution_count": 3,
   "metadata": {},
   "outputs": [
    {
     "name": "stdout",
     "output_type": "stream",
     "text": [
      "[1, 1, 2, 3, 4, 4, 5, 5, 6, 9]\n"
     ]
    }
   ],
   "source": [
    "\n",
    "def heapify(arr, n, i): \n",
    "\n",
    "    largest = i # set largest as root\n",
    "    l = 2 * i + 1     # left = 2*i + 1 \n",
    "    r = 2 * i + 2     # right = 2*i + 2 \n",
    "  \n",
    "    # See if left child of root exists and is \n",
    "    # greater than root \n",
    "    if (l < n and arr[i] < arr[l]): \n",
    "        largest = l \n",
    "  \n",
    "    # See if right child of root exists and is \n",
    "    # greater than root \n",
    "    if (r < n and arr[largest] < arr[r]): \n",
    "        largest = r \n",
    "  \n",
    "    # Change root, if needed \n",
    "    if (largest != i): \n",
    "        arr[i],arr[largest] = arr[largest],arr[i] # swap \n",
    "  \n",
    "        # Heapify the root. \n",
    "        heapify(arr, n, largest) \n",
    "\n",
    "# Function to sort an array        \n",
    "def heap_sort(arr): \n",
    "    \n",
    "\n",
    "    n = len(arr) \n",
    "  \n",
    "    # Build a heap. \n",
    "    for i in range(n, -1, -1): \n",
    "        heapify(arr, n, i) \n",
    "  \n",
    "    # One by one extract elements \n",
    "    for i in range(n-1, 0, -1): \n",
    "        arr[i], arr[0] = arr[0], arr[i] # swap \n",
    "        heapify(arr, i, 0) \n",
    "\n",
    "\n",
    "\n",
    "    return arr\n",
    "\n",
    "alist = [3,1,4,1,5,9,2,6,5,4]\n",
    "print (heap_sort(alist))"
   ]
  },
  {
   "cell_type": "markdown",
   "metadata": {},
   "source": [
    "#### 2.5 Counting Sort"
   ]
  },
  {
   "cell_type": "markdown",
   "metadata": {},
   "source": [
    "## 3. Implementation & Benchmarking\n",
    "\n",
    "In this section I will desribe the results from the benchmark that was returned from running the python script benchmark.py\n",
    "Benchmark was run 10 times for each inout size n, then average time value was calculated and converted to milliseconds. This steps was taken for each sorting algorithm and its input size.\n",
    "\n",
    "For benchamrking was taken 5 alhorithms:\n",
    "- Bubble Sort\n",
    "- Merge Sort\n",
    "- Counting Sort\n",
    "- Heap Sort\n",
    "- Selection Sort\n",
    "\n",
    "Results of benchmark are displayed in table below. \n"
   ]
  },
  {
   "cell_type": "code",
   "execution_count": 1,
   "metadata": {},
   "outputs": [
    {
     "data": {
      "text/html": [
       "<div>\n",
       "<style scoped>\n",
       "    .dataframe tbody tr th:only-of-type {\n",
       "        vertical-align: middle;\n",
       "    }\n",
       "\n",
       "    .dataframe tbody tr th {\n",
       "        vertical-align: top;\n",
       "    }\n",
       "\n",
       "    .dataframe thead th {\n",
       "        text-align: right;\n",
       "    }\n",
       "</style>\n",
       "<table border=\"1\" class=\"dataframe\">\n",
       "  <thead>\n",
       "    <tr style=\"text-align: right;\">\n",
       "      <th>Size</th>\n",
       "      <th>500</th>\n",
       "      <th>1000</th>\n",
       "      <th>1500</th>\n",
       "      <th>2000</th>\n",
       "      <th>2500</th>\n",
       "      <th>3000</th>\n",
       "      <th>4000</th>\n",
       "      <th>5000</th>\n",
       "      <th>6000</th>\n",
       "      <th>7000</th>\n",
       "      <th>8000</th>\n",
       "      <th>9000</th>\n",
       "      <th>10000</th>\n",
       "    </tr>\n",
       "  </thead>\n",
       "  <tbody>\n",
       "    <tr>\n",
       "      <th>Bubble Sort</th>\n",
       "      <td>7.477</td>\n",
       "      <td>31.401</td>\n",
       "      <td>74.251</td>\n",
       "      <td>134.578</td>\n",
       "      <td>211.234</td>\n",
       "      <td>309.304</td>\n",
       "      <td>548.457</td>\n",
       "      <td>859.902</td>\n",
       "      <td>1267.182</td>\n",
       "      <td>1706.237</td>\n",
       "      <td>2235.235</td>\n",
       "      <td>2866.389</td>\n",
       "      <td>3620.002</td>\n",
       "    </tr>\n",
       "    <tr>\n",
       "      <th>Merge Sort</th>\n",
       "      <td>0.000</td>\n",
       "      <td>0.100</td>\n",
       "      <td>0.211</td>\n",
       "      <td>0.160</td>\n",
       "      <td>0.760</td>\n",
       "      <td>0.100</td>\n",
       "      <td>0.599</td>\n",
       "      <td>0.598</td>\n",
       "      <td>0.698</td>\n",
       "      <td>0.599</td>\n",
       "      <td>0.898</td>\n",
       "      <td>0.898</td>\n",
       "      <td>1.291</td>\n",
       "    </tr>\n",
       "    <tr>\n",
       "      <th>Counting Sort</th>\n",
       "      <td>0.999</td>\n",
       "      <td>2.184</td>\n",
       "      <td>3.865</td>\n",
       "      <td>3.778</td>\n",
       "      <td>5.848</td>\n",
       "      <td>7.076</td>\n",
       "      <td>8.972</td>\n",
       "      <td>11.465</td>\n",
       "      <td>14.361</td>\n",
       "      <td>16.456</td>\n",
       "      <td>18.750</td>\n",
       "      <td>21.644</td>\n",
       "      <td>25.937</td>\n",
       "    </tr>\n",
       "    <tr>\n",
       "      <th>Heap Sort</th>\n",
       "      <td>1.597</td>\n",
       "      <td>3.288</td>\n",
       "      <td>4.701</td>\n",
       "      <td>7.735</td>\n",
       "      <td>9.704</td>\n",
       "      <td>11.838</td>\n",
       "      <td>15.761</td>\n",
       "      <td>20.642</td>\n",
       "      <td>25.331</td>\n",
       "      <td>29.226</td>\n",
       "      <td>33.608</td>\n",
       "      <td>38.398</td>\n",
       "      <td>45.478</td>\n",
       "    </tr>\n",
       "    <tr>\n",
       "      <th>Selection Sort</th>\n",
       "      <td>5.413</td>\n",
       "      <td>22.470</td>\n",
       "      <td>49.373</td>\n",
       "      <td>88.984</td>\n",
       "      <td>135.898</td>\n",
       "      <td>199.566</td>\n",
       "      <td>350.665</td>\n",
       "      <td>547.737</td>\n",
       "      <td>807.518</td>\n",
       "      <td>1075.926</td>\n",
       "      <td>1397.559</td>\n",
       "      <td>1782.123</td>\n",
       "      <td>2293.616</td>\n",
       "    </tr>\n",
       "  </tbody>\n",
       "</table>\n",
       "</div>"
      ],
      "text/plain": [
       "Size            500     1000    1500     2000     2500     3000     4000   \\\n",
       "Bubble Sort     7.477  31.401  74.251  134.578  211.234  309.304  548.457   \n",
       "Merge Sort      0.000   0.100   0.211    0.160    0.760    0.100    0.599   \n",
       "Counting Sort   0.999   2.184   3.865    3.778    5.848    7.076    8.972   \n",
       "Heap Sort       1.597   3.288   4.701    7.735    9.704   11.838   15.761   \n",
       "Selection Sort  5.413  22.470  49.373   88.984  135.898  199.566  350.665   \n",
       "\n",
       "Size              5000      6000      7000      8000      9000      10000  \n",
       "Bubble Sort     859.902  1267.182  1706.237  2235.235  2866.389  3620.002  \n",
       "Merge Sort        0.598     0.698     0.599     0.898     0.898     1.291  \n",
       "Counting Sort    11.465    14.361    16.456    18.750    21.644    25.937  \n",
       "Heap Sort        20.642    25.331    29.226    33.608    38.398    45.478  \n",
       "Selection Sort  547.737   807.518  1075.926  1397.559  1782.123  2293.616  "
      ]
     },
     "execution_count": 1,
     "metadata": {},
     "output_type": "execute_result"
    }
   ],
   "source": [
    "import benchmark  # imported python file benchmark.py where are algorithm codes and benchmark test is implemented \n",
    "\n",
    "\n",
    "import matplotlib.pyplot as plt \n",
    "import pandas as pd\n",
    "import numpy as np\n",
    "%matplotlib inline\n",
    "\n",
    "# Run benchmark.py and store result as a pandas dataframe\n",
    "df = benchmark.main()\n",
    "\n",
    "# transpose dataframe for better readability\n",
    "df.T"
   ]
  },
  {
   "cell_type": "markdown",
   "metadata": {},
   "source": [
    "We can clearly see that the Merge Sort is the fastest sorting algorithm tested. <br>\n",
    " \n",
    "As expected (becaues of $O(n^2)$ average Time Complexity) Bubble Sort and Selection Sort are the slowest algorithms tested. "
   ]
  },
  {
   "cell_type": "markdown",
   "metadata": {},
   "source": [
    "\n",
    "\n"
   ]
  },
  {
   "cell_type": "code",
   "execution_count": 2,
   "metadata": {},
   "outputs": [
    {
     "name": "stdout",
     "output_type": "stream",
     "text": [
      "3620\n"
     ]
    },
    {
     "data": {
      "image/png": "[encoded data removed]",
      "text/plain": [
       "<Figure size 1440x1440 with 1 Axes>"
      ]
     },
     "metadata": {
      "needs_background": "light"
     },
     "output_type": "display_data"
    }
   ],
   "source": [
    "#input_size = [200,300,500,750,1000,1250,1500,2500, 3750]\n",
    "input_size = df.T.columns\n",
    "val_max =  int(df.values.max())\n",
    "print (val_max)\n",
    "plt.figure(figsize=(20,20))\n",
    "plt.plot(df.index, df['Bubble Sort'], '-bo', label='Bubble Sort')\n",
    "plt.plot(df.index, df['Merge Sort'], '-ro',label='Merge Sort')\n",
    "plt.plot(df.index, df['Counting Sort'],'-co', label='Counting Sort')\n",
    "plt.plot(df.index, df['Heap Sort'], '-mo',label='Heap Sort')\n",
    "plt.plot(df.index, df['Selection Sort'],'-ko', label='Selection Sort')\n",
    "\n",
    "\n",
    "# Adding some nice labels \n",
    "plt.title('Sort algorithm comparison graph',fontsize=18)\n",
    "plt.xlabel(\"Input Size\",fontsize=18) \n",
    "plt.xticks(input_size,fontsize=14)\n",
    "plt.yticks(range(0,val_max+25,250),fontsize=14)\n",
    "plt.ylabel(\"Time in milliseconds\",fontsize=18)\n",
    "\n",
    "plt.legend()\n",
    "plt.legend(fontsize=20)\n",
    "plt.show()"
   ]
  },
  {
   "cell_type": "code",
   "execution_count": null,
   "metadata": {},
   "outputs": [],
   "source": []
  },
  {
   "cell_type": "code",
   "execution_count": null,
   "metadata": {},
   "outputs": [],
   "source": []
  },
  {
   "cell_type": "code",
   "execution_count": null,
   "metadata": {},
   "outputs": [],
   "source": []
  },
  {
   "cell_type": "code",
   "execution_count": null,
   "metadata": {},
   "outputs": [],
   "source": []
  },
  {
   "cell_type": "code",
   "execution_count": null,
   "metadata": {},
   "outputs": [],
   "source": []
  },
  {
   "cell_type": "markdown",
   "metadata": {},
   "source": [
    "### References:\n",
    "\n",
    "[1] https://en.wikipedia.org/wiki/Algorithm <br>\n",
    "[2] https://guide.freecodecamp.org/algorithms/sorting-algorithms/ <br>\n",
    "[3] https://realpython.com/sorting-algorithms-python/<br>\n",
    "[4] https://en.wikipedia.org/wiki/Bubble_sort <br>\n",
    "[5] https://www.geeksforgeeks.org/bubble-sort/ <br>\n",
    "[6] Lecture notes - GMIT Computational Thinking With Algorithm, 07 Sorting Algorithms Part 1 <br>\n",
    "[7] https://www.geeksforgeeks.org/selection-sort/ <br>\n",
    "[8] https://en.wikipedia.org/wiki/Merge_sort <br>\n",
    "[9] https://stackabuse.com/heap-sort-in-python/<br>\n",
    "[10] https://www.geeksforgeeks.org/in-place-algorithm/<br>\n",
    "[11] https://www.studytonight.com/data-structures/time-complexity-of-algorithms<br>\n",
    "[12] https://en.wikipedia.org/wiki/Space_complexity<br>\n",
    "[13] https://www.geeksforgeeks.org/stability-in-sorting-algorithms/<br>\n",
    "[14] https://en.wikipedia.org/wiki/Heapsort\n",
    "                                             \n",
    "\n",
    "Technical Helps:<br>\n",
    "- https://stackoverflow.com/a/24571145/11107506 - yticks  <br>\n",
    "- https://stackoverflow.com/a/39473158/11107506 - Legend font size <br>\n",
    "- https://www.geeksforgeeks.org/how-to-get-column-names-in-pandas-dataframe/ - DataFrame column names <br>\n",
    "- https://texblog.org/2014/06/24/big-o-and-related-notations-in-latex/ - Latex notation <br>"
   ]
  },
  {
   "cell_type": "code",
   "execution_count": null,
   "metadata": {},
   "outputs": [],
   "source": []
  }
 ],
 "metadata": {
  "kernelspec": {
   "display_name": "Python 3",
   "language": "python",
   "name": "python3"
  },
  "language_info": {
   "codemirror_mode": {
    "name": "ipython",
    "version": 3
   },
   "file_extension": ".py",
   "mimetype": "text/x-python",
   "name": "python",
   "nbconvert_exporter": "python",
   "pygments_lexer": "ipython3",
   "version": "3.7.6"
  }
 },
 "nbformat": 4,
 "nbformat_minor": 4
}
