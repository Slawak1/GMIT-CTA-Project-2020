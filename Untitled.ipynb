{
 "cells": [
  {
   "cell_type": "markdown",
   "metadata": {},
   "source": [
    "## Benchmarking Sorting Algorithms - Project 2020\n",
    "### GMIT Galway - Computational Thinking with Algorithms\n",
    "### Slawomir Sowa\n"
   ]
  },
  {
   "cell_type": "markdown",
   "metadata": {},
   "source": [
    "## 1. Introduction:\n",
    "\n",
    "<i>Why  we need sorting algorithms\n",
    "discuss their space and time complexity,\n",
    "discuse complexity (time and space) performance, in-place sorting, stable sorting, comparator functions, comparision-based and non comparision-based sorts etc. </i>\n",
    "\n",
    "\n",
    "\n",
    "\n",
    "\n",
    "Sorting is any process of ordering (arranging items in a sequence) or categorizing (grouping items) items. Sorting is one of the most important algorithms in computer science.  We can use sorting to solve a wide range of problems:\n",
    "\n",
    "* **Searching:** Searching for an item on a list works much faster if the list is sorted.\n",
    "* **Selection:** Selecting items from a list based on their relationship to the rest of the items is easier with sorted data.\n",
    "* **Duplicates:** Finding duplicate values on a list can be done very quickly when the list is sorted.\n",
    "* **Distribution:** Analyzing the frequency distribution of items on a list is very fast if the list is sorted. <i>[[3]](https://realpython.com/sorting-algorithms-python/)</i>\n",
    "\n",
    "Sorting is often an important step as part of othercomputer algorithms e.g. in computer graphic (CG) objects.\n",
    "Few real world examples  Transactions in a bank account statement, results from a web search. <i>[6]</i>    \n",
    "\n",
    "We can define algorithm as a finite sequence of well-defined, computer-implementable instructions, to solve a problem or perform a computation. <i>[[1]](https://en.wikipedia.org/wiki/Algorithm)</i> \n",
    "\n",
    "In computer science sorting algorithms are a set of instructions that take na array or list as an input and arrange the items into a particular order. Most commonly in numerical or a form of alphabetical order. It is important algorithm in Computer Science as can reduce the complexity of a problem. <i>[[2]](https://guide.freecodecamp.org/algorithms/sorting-algorithms/)</i> \n",
    "\n",
    "Sorting Algorithms can be measured \n",
    "\n",
    "\n",
    "Comparision Based \n",
    "\n",
    "Non-Comparision Based:\n",
    "\n",
    "#### In Place sorting\n",
    "An in-place algorithm is an algorithm that does not need an extra space and produces an output in the same memory that contains the data by transforming the input ‘in-place’. However, a small constant extra space used for variables is allowed.[[10]](https://www.geeksforgeeks.org/in-place-algorithm/)\n",
    "\n",
    "#### Time Complexity\n",
    "Time complexity of an algorithm signifies the total time required by the program to run till its completion.\n",
    "\n",
    "The time complexity of algorithms is most commonly expressed using the big O notation. It's an asymptotic notation to represent the time complexity.[[11]](https://www.studytonight.com/data-structures/time-complexity-of-algorithms)\n",
    "\n",
    "\n",
    "#### Space Complexity:\n",
    "\n",
    "The space complexity of an algorithm is the amount of memory space required to solve a computational problem as a function of the size of the input. It is the memory required by an algorithm to execute a program and produce output.\n",
    "\n",
    "Similar to time complexity, Space complexity is often expressed asymptotically in big O notation, such as $O(n)$, $O(n^2)$, $O(n\\log{}n)$ etc., where n is the input size in units of bits needed to represent the input.[[12]](https://en.wikipedia.org/wiki/Space_complexity)\n",
    "\n",
    "#### Stability\n",
    "\n",
    "Unstable, meaning that it does not maintain the relative order of elements with equal values. This isn't an issue with primitive types (like integers and characters...) but it can be a problem when we sort complex types, like objects.\n"
   ]
  },
  {
   "cell_type": "markdown",
   "metadata": {},
   "source": [
    "## 2. Sorting Algorithms\n",
    "\n",
    "Introduce sorting algorithms,  explain how each algorithm works. \n",
    "\n",
    "I selected five sorting algorithms for testing. \n",
    "\n",
    "1. A simple comparision-based sort: **Bubble Sort** and **Selection Sort**\n",
    "2. As efficient comparision-based sort: **Merge Sort** and **Heap Sort**\n",
    "3. A non-comparision sort: **Counting Sort**\n",
    "\n",
    "Now I will present the algorithms in turn to explain how each algorithm works. \n",
    "\n",
    "### 2.1 Bubble Sort\n",
    "\n",
    "Bubble sort is a simple sorting algorithm that repeatedly steps through the list, compares adjacent elements and swaps them if they are in the wrong order.  The pass through the list is repeated until the list is sorted. <br>First analysed as early as 1956. [[4]](https://en.wikipedia.org/wiki/Bubble_sort), [[5]](https://www.geeksforgeeks.org/bubble-sort/) <br>\n",
    "Bubble sort algorithm is called comparision-based and the only way to gain information about the total order is by comparing a pair of elements. No algorithms that sorts by comparing alements can do better than $n$ $log$ $n$ performance in the average or worst cases. <i>[6]</i>\n",
    "\n",
    "![title](img/bubble-short.PNG)\n",
    "<p  style=\"text-align:right\"><a href=\"https://www.w3resource.com/javascript-exercises/javascript-function-exercise-24.php\">https://www.w3resource.com/javascript-exercises/javascript-function-exercise-24.php</a></p>\n",
    "\n",
    "Bubble sort is in-place sorting algorithm. In general is simple to implement but it is slow and impractical for most problems.\n",
    "\n"
   ]
  },
  {
   "cell_type": "code",
   "execution_count": 3,
   "metadata": {},
   "outputs": [
    {
     "name": "stdout",
     "output_type": "stream",
     "text": [
      "[1, 2, 5, 48, 65, 125, 333, 469, 645, 2547]\n"
     ]
    }
   ],
   "source": [
    "# Code taken from https://runestone.academy/runestone/books/published/pythonds/SortSearch/TheBubbleSort.html\n",
    "\n",
    "# An example of Bubble sort algorithm\n",
    "\n",
    "def bubbleSort(alist):\n",
    "    for passnum in range(len(alist)-1,0,-1):\n",
    "        for i in range(passnum):\n",
    "            if alist[i]>alist[i+1]:\n",
    "                temp = alist[i]\n",
    "                alist[i] = alist[i+1]\n",
    "                alist[i+1] = temp\n",
    "\n",
    "alist = [65,125,48,469,5,333,2547,645,2,1,]\n",
    "bubbleSort(alist)\n",
    "print(alist)"
   ]
  },
  {
   "cell_type": "markdown",
   "metadata": {},
   "source": [
    "#### Performance\n",
    "\n",
    "* Best Case: $O(n)$<br>\n",
    "* Worst Case: $O(n^2)$<br>\n",
    "* Average Case: $O(n^2)$<br>\n",
    "* Space Complexity: $1$<br>\n",
    "* Stable: Yes"
   ]
  },
  {
   "cell_type": "markdown",
   "metadata": {},
   "source": [
    "### 2.2 Selection Sort\n",
    "\n",
    "Simmilar to Bubble sort, Selection sort is comparision based sorting algorithm, gives better performance than bubble sort, but still impractical for real world tasks with a significant input size.  <i>[6]</i>\n",
    "\n",
    "The selection sort algorithm sorts an array by repeatedly finding the minimum element (considering ascending order) from unsorted part and putting it at the beginning. The algorithm maintains two subarrays in a given array.\n",
    "\n",
    "1) The subarray which is already sorted. <br>\n",
    "2) Remaining subarray which is unsorted.\n",
    "\n",
    "In every iteration of selection sort, the minimum element (considering ascending order) from the unsorted subarray is picked and moved to the sorted subarray. [[7]](https://www.geeksforgeeks.org/selection-sort/)\n",
    "\n",
    "![title](img/selection-sort.PNG)\n",
    "\n",
    "\n",
    "<p  style=\"text-align:right\"><a href=\"https://www.w3resource.com/c-programming-exercises/searching-and-sorting/c-search-and-sorting-exercise-2.php\">https://www.w3resource.com/c-programming-exercises/searching-and-sorting/c-search-and-sorting-exercise-2.php</a></p>"
   ]
  },
  {
   "cell_type": "code",
   "execution_count": 4,
   "metadata": {},
   "outputs": [
    {
     "name": "stdout",
     "output_type": "stream",
     "text": [
      "[17, 20, 26, 31, 44, 54, 55, 77, 93]\n"
     ]
    }
   ],
   "source": [
    "# Code taken from https://runestone.academy/runestone/books/published/pythonds/SortSearch/TheBubbleSort.html\n",
    "\n",
    "# An example of Selection sort algorithm\n",
    "\n",
    "def selectionSort(alist):\n",
    "   for fillslot in range(len(alist)-1,0,-1):\n",
    "       positionOfMax=0\n",
    "       for location in range(1,fillslot+1):\n",
    "           if alist[location]>alist[positionOfMax]:\n",
    "               positionOfMax = location\n",
    "\n",
    "       temp = alist[fillslot]\n",
    "       alist[fillslot] = alist[positionOfMax]\n",
    "       alist[positionOfMax] = temp\n",
    "\n",
    "alist = [54,26,93,17,77,31,44,55,20]\n",
    "selectionSort(alist)\n",
    "print(alist)"
   ]
  },
  {
   "cell_type": "markdown",
   "metadata": {},
   "source": [
    "#### Performance\n",
    "\n",
    "* Best Case: $O(n^2)$<br>\n",
    "* Worst Case: $O(n^2)$<br>\n",
    "* Average Case: $O(n^2)$<br>\n",
    "* Space Complexity: $1$<br>\n",
    "* Stable: No"
   ]
  },
  {
   "cell_type": "markdown",
   "metadata": {},
   "source": [
    "### 2.3 Merge Sort\n",
    "\n",
    "Merge Sort was proposed by John von Neumann in 1945. This algorithm exploits a recursive divide-and-conquer approach, resulting in a worst-case running time of $O(n\\log{}n)$. Merge sort gives good all-around performance. <i>[6]</i><br>\n",
    "\n",
    "Conceptually, a merge sort works as follows:\n",
    "\n",
    "* Divide the unsorted list into n sublists, each containing one element (a list of one element is considered sorted).\n",
    "* Repeatedly merge sublists to produce new sorted sublists until there is only one sublist remaining. This will be the sorted list. <i>[[8]](https://en.wikipedia.org/wiki/Merge_sort)</i>\n",
    "\n",
    "\n",
    "![title](img/merge_sort.PNG)\n",
    "<p  style=\"text-align:right\"><a href=\"https://www.w3resource.com/javascript-exercises/searching-and-sorting-algorithm/searching-and-sorting-algorithm-exercise-2.php\">https://www.w3resource.com/javascript-exercises/searching-and-sorting-algorithm/searching-and-sorting-algorithm-exercise-2.php</a></p>\n"
   ]
  },
  {
   "cell_type": "code",
   "execution_count": 6,
   "metadata": {},
   "outputs": [
    {
     "name": "stdout",
     "output_type": "stream",
     "text": [
      "[1, 1, 2, 3, 4, 4, 5, 5, 6, 9]\n"
     ]
    }
   ],
   "source": [
    "# Source: https://stackabuse.com/sorting-algorithms-in-python/\n",
    "\n",
    "def merge(left_list, right_list):\n",
    "    sorted_list = []\n",
    "    left_list_index = right_list_index = 0\n",
    "\n",
    "    # We use the list lengths often, so its handy to make variables\n",
    "    left_list_length, right_list_length = len(left_list), len(right_list)\n",
    "\n",
    "    for _ in range(left_list_length + right_list_length):\n",
    "        if left_list_index < left_list_length and right_list_index < right_list_length:\n",
    "            # We check which value from the start of each list is smaller\n",
    "            # If the item at the beginning of the left list is smaller, add it\n",
    "            # to the sorted list\n",
    "            if left_list[left_list_index] <= right_list[right_list_index]:\n",
    "                sorted_list.append(left_list[left_list_index])\n",
    "                left_list_index += 1\n",
    "            # If the item at the beginning of the right list is smaller, add it\n",
    "            # to the sorted list\n",
    "            else:\n",
    "                sorted_list.append(right_list[right_list_index])\n",
    "                right_list_index += 1\n",
    "\n",
    "        # If we've reached the end of the of the left list, add the elements\n",
    "        # from the right list\n",
    "        elif left_list_index == left_list_length:\n",
    "            sorted_list.append(right_list[right_list_index])\n",
    "            right_list_index += 1\n",
    "        # If we've reached the end of the of the right list, add the elements\n",
    "        # from the left list\n",
    "        elif right_list_index == right_list_length:\n",
    "            sorted_list.append(left_list[left_list_index])\n",
    "            left_list_index += 1\n",
    "\n",
    "    # final result of the sorting\n",
    "    return sorted_list\n",
    "\n",
    "\n",
    "##### Function definition #####\n",
    "# Function performing the merge sort; it takes an array to be sorted as an argument\n",
    "def merge_sort(array):\n",
    "    # If the list is a single element, return it\n",
    "    if len(array) <= 1:\n",
    "        return array\n",
    "\n",
    "    # Use floor division to get midpoint, indices must be integers\n",
    "    mid = len(array) // 2\n",
    "\n",
    "    # Sort and merge each half\n",
    "    left_list = merge_sort(array[:mid])\n",
    "    right_list = merge_sort(array[mid:])\n",
    "\n",
    "    # Merge the sorted lists into a new one\n",
    "    return merge(left_list, right_list)\n",
    "\n",
    "alist = [3,1,4,1,5,9,2,6,5,4]\n",
    "\n",
    "print(merge_sort(alist))"
   ]
  },
  {
   "cell_type": "markdown",
   "metadata": {},
   "source": [
    "#### Performance\n",
    "\n",
    "* Best Case: $O(n\\log{}n)$<br>\n",
    "* Worst Case: $O(n\\log{}n)$<br>\n",
    "* Average Case: $O(n\\log{}n)$<br>\n",
    "* Space Complexity: $O(n)$<br>\n",
    "* Stable: Yes\n"
   ]
  },
  {
   "cell_type": "markdown",
   "metadata": {},
   "source": [
    "### 2.4 Heap Sort\n",
    "Heapsort is a comparison-based sorting algorithm that uses a binary heap data structure. \n",
    "\n",
    "The heapsort algorithm can be divided into two parts.\n",
    "\n",
    "In the first step, a heap is built out of the data. The heap is often placed in an array with the layout of a complete binary tree. The complete binary tree maps the binary tree structure into the array indices, each array index represents a node, the index of the node's parent, left child branch, or right child branch are simple expressions. \n",
    "\n",
    "\n",
    "In the second step, a sorted array is created by repeatedly removing the largest element from the heap (the root of the heap), and inserting it into the array. The heap is updated after each removal to maintain the heap property. Once all objects have been removed from the heap, the result is a sorted array.\n",
    "\n",
    "Heapsort can be performed in place.\n"
   ]
  },
  {
   "cell_type": "code",
   "execution_count": 3,
   "metadata": {},
   "outputs": [
    {
     "name": "stdout",
     "output_type": "stream",
     "text": [
      "[1, 1, 2, 3, 4, 4, 5, 5, 6, 9]\n"
     ]
    }
   ],
   "source": [
    "def heapify(arr, n, i): \n",
    "\n",
    "    largest = i # set largest as root\n",
    "    l = 2 * i + 1     # left = 2*i + 1 \n",
    "    r = 2 * i + 2     # right = 2*i + 2 \n",
    "  \n",
    "    # See if left child of root exists and is \n",
    "    # greater than root \n",
    "    if (l < n and arr[i] < arr[l]): \n",
    "        largest = l \n",
    "  \n",
    "    # See if right child of root exists and is \n",
    "    # greater than root \n",
    "    if (r < n and arr[largest] < arr[r]): \n",
    "        largest = r \n",
    "  \n",
    "    # Change root, if needed \n",
    "    if (largest != i): \n",
    "        arr[i],arr[largest] = arr[largest],arr[i] # swap \n",
    "  \n",
    "        # Heapify the root. \n",
    "        heapify(arr, n, largest) \n",
    "  \n",
    "# function to sort an array of given size \n",
    "def heap_sort(arr): \n",
    "    \n",
    "\n",
    "    n = len(arr) \n",
    "  \n",
    "    # Build a heap. \n",
    "    for i in range(n, -1, -1): \n",
    "        heapify(arr, n, i) \n",
    "  \n",
    "    # One by one extract elements \n",
    "    for i in range(n-1, 0, -1): \n",
    "        arr[i], arr[0] = arr[0], arr[i] # swap \n",
    "        heapify(arr, i, 0) \n",
    "\n",
    "\n",
    "\n",
    "    return arr\n",
    "\n",
    "alist = [3,1,4,1,5,9,2,6,5,4]\n",
    "print (heap_sort(alist))"
   ]
  },
  {
   "cell_type": "markdown",
   "metadata": {},
   "source": [
    "#### 2.5 Counting Sort"
   ]
  },
  {
   "cell_type": "markdown",
   "metadata": {},
   "source": [
    "## 3. Implementation & Benchmarking\n",
    "\n",
    "In this section I will desribe the process followed when implementing the aplication above, present results of benchamrking. \n",
    "\n",
    "Discuss how the measured performance of the algorithm differed.- where the results similar to what you would expect given the time complexity of each chosen algorithm. \n",
    "\n",
    "Use table and Graph\n",
    "\n"
   ]
  },
  {
   "cell_type": "code",
   "execution_count": 1,
   "metadata": {},
   "outputs": [
    {
     "data": {
      "text/html": [
       "<div>\n",
       "<style scoped>\n",
       "    .dataframe tbody tr th:only-of-type {\n",
       "        vertical-align: middle;\n",
       "    }\n",
       "\n",
       "    .dataframe tbody tr th {\n",
       "        vertical-align: top;\n",
       "    }\n",
       "\n",
       "    .dataframe thead th {\n",
       "        text-align: right;\n",
       "    }\n",
       "</style>\n",
       "<table border=\"1\" class=\"dataframe\">\n",
       "  <thead>\n",
       "    <tr style=\"text-align: right;\">\n",
       "      <th>Size</th>\n",
       "      <th>200</th>\n",
       "      <th>300</th>\n",
       "      <th>500</th>\n",
       "      <th>750</th>\n",
       "      <th>1000</th>\n",
       "      <th>1250</th>\n",
       "      <th>1500</th>\n",
       "      <th>2500</th>\n",
       "      <th>3750</th>\n",
       "    </tr>\n",
       "  </thead>\n",
       "  <tbody>\n",
       "    <tr>\n",
       "      <th>Bubble Sort</th>\n",
       "      <td>1.099</td>\n",
       "      <td>2.599</td>\n",
       "      <td>7.284</td>\n",
       "      <td>17.522</td>\n",
       "      <td>32.018</td>\n",
       "      <td>53.142</td>\n",
       "      <td>75.235</td>\n",
       "      <td>211.535</td>\n",
       "      <td>483.620</td>\n",
       "    </tr>\n",
       "    <tr>\n",
       "      <th>Merge Sort</th>\n",
       "      <td>0.099</td>\n",
       "      <td>0.000</td>\n",
       "      <td>0.100</td>\n",
       "      <td>0.300</td>\n",
       "      <td>0.299</td>\n",
       "      <td>0.199</td>\n",
       "      <td>0.100</td>\n",
       "      <td>0.199</td>\n",
       "      <td>0.299</td>\n",
       "    </tr>\n",
       "    <tr>\n",
       "      <th>Counting Sort</th>\n",
       "      <td>0.300</td>\n",
       "      <td>0.499</td>\n",
       "      <td>0.898</td>\n",
       "      <td>1.299</td>\n",
       "      <td>2.296</td>\n",
       "      <td>2.591</td>\n",
       "      <td>3.391</td>\n",
       "      <td>5.482</td>\n",
       "      <td>8.578</td>\n",
       "    </tr>\n",
       "    <tr>\n",
       "      <th>Heap Sort</th>\n",
       "      <td>0.499</td>\n",
       "      <td>0.799</td>\n",
       "      <td>1.694</td>\n",
       "      <td>2.389</td>\n",
       "      <td>3.292</td>\n",
       "      <td>4.390</td>\n",
       "      <td>5.286</td>\n",
       "      <td>9.477</td>\n",
       "      <td>14.660</td>\n",
       "    </tr>\n",
       "    <tr>\n",
       "      <th>Selection Sort</th>\n",
       "      <td>0.895</td>\n",
       "      <td>1.986</td>\n",
       "      <td>5.384</td>\n",
       "      <td>12.977</td>\n",
       "      <td>22.829</td>\n",
       "      <td>34.199</td>\n",
       "      <td>50.204</td>\n",
       "      <td>137.870</td>\n",
       "      <td>308.931</td>\n",
       "    </tr>\n",
       "  </tbody>\n",
       "</table>\n",
       "</div>"
      ],
      "text/plain": [
       "Size             200    300    500     750     1000    1250    1500     2500  \\\n",
       "Bubble Sort     1.099  2.599  7.284  17.522  32.018  53.142  75.235  211.535   \n",
       "Merge Sort      0.099  0.000  0.100   0.300   0.299   0.199   0.100    0.199   \n",
       "Counting Sort   0.300  0.499  0.898   1.299   2.296   2.591   3.391    5.482   \n",
       "Heap Sort       0.499  0.799  1.694   2.389   3.292   4.390   5.286    9.477   \n",
       "Selection Sort  0.895  1.986  5.384  12.977  22.829  34.199  50.204  137.870   \n",
       "\n",
       "Size               3750  \n",
       "Bubble Sort     483.620  \n",
       "Merge Sort        0.299  \n",
       "Counting Sort     8.578  \n",
       "Heap Sort        14.660  \n",
       "Selection Sort  308.931  "
      ]
     },
     "execution_count": 1,
     "metadata": {},
     "output_type": "execute_result"
    }
   ],
   "source": [
    "import benchmark  # imported python file benchmark.py where are algorithm codes and benchmark test is implemented \n",
    "\n",
    "\n",
    "import matplotlib.pyplot as plt \n",
    "import pandas as pd\n",
    "import numpy as np\n",
    "%matplotlib inline\n",
    "\n",
    "df = benchmark.main()\n",
    "\n",
    "\n",
    "df.T\n",
    "\n"
   ]
  },
  {
   "cell_type": "markdown",
   "metadata": {},
   "source": [
    " "
   ]
  },
  {
   "cell_type": "code",
   "execution_count": null,
   "metadata": {},
   "outputs": [],
   "source": [
    "\n",
    "\n"
   ]
  },
  {
   "cell_type": "code",
   "execution_count": 2,
   "metadata": {},
   "outputs": [
    {
     "name": "stdout",
     "output_type": "stream",
     "text": [
      "483\n"
     ]
    },
    {
     "data": {
      "image/png": "[encoded data removed]",
      "text/plain": [
       "<Figure size 1440x1440 with 1 Axes>"
      ]
     },
     "metadata": {
      "needs_background": "light"
     },
     "output_type": "display_data"
    }
   ],
   "source": [
    "#input_size = [200,300,500,750,1000,1250,1500,2500, 3750]\n",
    "input_size = df.T.columns\n",
    "val_max =  int(df.values.max())\n",
    "print (val_max)\n",
    "plt.figure(figsize=(20,20))\n",
    "plt.plot(df.index, df['Bubble Sort'], '-bo', label='Bubble Sort')\n",
    "plt.plot(df.index, df['Merge Sort'], '-ro',label='Merge Sort')\n",
    "plt.plot(df.index, df['Counting Sort'],'-co', label='Counting Sort')\n",
    "plt.plot(df.index, df['Heap Sort'], '-mo',label='Heap Sort')\n",
    "plt.plot(df.index, df['Selection Sort'],'-ko', label='Selection Sort')\n",
    "\n",
    "\n",
    "# Adding some nice labels \n",
    "plt.title('Sort algorithm comparison graph',fontsize=18)\n",
    "plt.xlabel(\"Input Size\",fontsize=18) \n",
    "plt.xticks(input_size,fontsize=14)\n",
    "plt.yticks(range(0,val_max+25,25),fontsize=14)\n",
    "plt.ylabel(\"Time in milliseconds\",fontsize=18)\n",
    "\n",
    "plt.legend()\n",
    "plt.legend(fontsize=20)\n",
    "plt.show()"
   ]
  },
  {
   "cell_type": "code",
   "execution_count": null,
   "metadata": {},
   "outputs": [],
   "source": []
  },
  {
   "cell_type": "code",
   "execution_count": null,
   "metadata": {},
   "outputs": [],
   "source": []
  },
  {
   "cell_type": "code",
   "execution_count": null,
   "metadata": {},
   "outputs": [],
   "source": []
  },
  {
   "cell_type": "code",
   "execution_count": null,
   "metadata": {},
   "outputs": [],
   "source": []
  },
  {
   "cell_type": "code",
   "execution_count": null,
   "metadata": {},
   "outputs": [],
   "source": []
  },
  {
   "cell_type": "markdown",
   "metadata": {},
   "source": [
    "### References:\n",
    "\n",
    "[1] https://en.wikipedia.org/wiki/Algorithm <br>\n",
    "[2] https://guide.freecodecamp.org/algorithms/sorting-algorithms/ <br>\n",
    "[3] https://realpython.com/sorting-algorithms-python/<br>\n",
    "[4] https://en.wikipedia.org/wiki/Bubble_sort <br>\n",
    "[5] https://www.geeksforgeeks.org/bubble-sort/ <br>\n",
    "[6] Lecture notes - GMIT Computational Thinking With Algorithm, 07 Sorting Algorithms Part 1 <br>\n",
    "[7] https://www.geeksforgeeks.org/selection-sort/ <br>\n",
    "[8] https://en.wikipedia.org/wiki/Merge_sort <br>\n",
    "[9] https://stackabuse.com/heap-sort-in-python/\n",
    "[10] https://www.geeksforgeeks.org/in-place-algorithm/\n",
    "[11] https://www.studytonight.com/data-structures/time-complexity-of-algorithms\n",
    "[12] https://en.wikipedia.org/wiki/Space_complexity\n",
    "                                             \n",
    "\n",
    "Technical Helps:<br>\n",
    "- https://stackoverflow.com/a/24571145/11107506 - yticks  <br>\n",
    "- https://stackoverflow.com/a/39473158/11107506 - Legend font size <br>\n",
    "- https://www.geeksforgeeks.org/how-to-get-column-names-in-pandas-dataframe/ - DataFrame column names <br>\n",
    "- https://texblog.org/2014/06/24/big-o-and-related-notations-in-latex/ - Latex notation <br>"
   ]
  },
  {
   "cell_type": "code",
   "execution_count": null,
   "metadata": {},
   "outputs": [],
   "source": []
  }
 ],
 "metadata": {
  "kernelspec": {
   "display_name": "Python 3",
   "language": "python",
   "name": "python3"
  },
  "language_info": {
   "codemirror_mode": {
    "name": "ipython",
    "version": 3
   },
   "file_extension": ".py",
   "mimetype": "text/x-python",
   "name": "python",
   "nbconvert_exporter": "python",
   "pygments_lexer": "ipython3",
   "version": "3.7.5"
  }
 },
 "nbformat": 4,
 "nbformat_minor": 4
}
